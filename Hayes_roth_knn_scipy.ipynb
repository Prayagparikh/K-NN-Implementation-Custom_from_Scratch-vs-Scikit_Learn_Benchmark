{
 "cells": [
  {
   "cell_type": "code",
   "execution_count": 25,
   "id": "1ac0d2d8-8d4d-4f3a-b875-a3c564c09ee5",
   "metadata": {},
   "outputs": [],
   "source": [
    "from csv import reader\n",
    "import pandas as pd\n",
    "import numpy as np\n",
    "from math import sqrt\n",
    "from sklearn.model_selection import train_test_split\n",
    "from sklearn.model_selection import cross_val_score, KFold\n",
    "from sklearn.neighbors import KNeighborsClassifier\n",
    "from sklearn.preprocessing import StandardScaler"
   ]
  },
  {
   "cell_type": "code",
   "execution_count": 26,
   "id": "456de321-630a-4b63-b0b4-e1303c73a721",
   "metadata": {},
   "outputs": [],
   "source": [
    "dataset = pd.read_csv(\"./hayes+roth/hayes-roth.data.csv\")\n",
    "dataset_test = pd.read_csv(\"./hayes+roth/hayes-roth.test.csv\")\n",
    "dataset = dataset.mask(dataset == '')\n",
    "dataset_test = dataset_test.mask(dataset_test == '')"
   ]
  },
  {
   "cell_type": "code",
   "execution_count": 28,
   "id": "7f2ac47f-da72-48e0-9414-e4d61494813d",
   "metadata": {},
   "outputs": [
    {
     "name": "stdout",
     "output_type": "stream",
     "text": [
      "Accuracy Scores for 10 Folds (k=3): 0.6428571428571429, 0.5714285714285714, 0.6153846153846154, 0.46153846153846156, 0.3076923076923077, 0.38461538461538464, 0.3076923076923077, 0.6923076923076923, 0.38461538461538464, 0.38461538461538464 \n",
      "\n",
      "Accuracy Scores for 10 Folds(k=sqrt(len(dataset))): 57.14285714285714,50.0,53.84615384615385,61.53846153846154,69.23076923076923,46.15384615384615,38.46153846153847,53.84615384615385,46.15384615384615,38.46153846153847 \n",
      "\n",
      "\n",
      "Average Accuracy(PERCENTAGE)(k=3): 47.5275\n",
      "\n",
      "Average Accuracy(large_k = sqrt(len(dataset))): 47.5275\n"
     ]
    }
   ],
   "source": [
    "# Splitting dataset\n",
    "X_train = dataset.iloc[:, :-1]  \n",
    "y_train = dataset.iloc[:, -1] \n",
    "\n",
    "X_test = dataset_test.iloc[:, :-1]\n",
    "y_test = dataset_test.iloc[:, -1] \n",
    "\n",
    "# Convert X_train, y_train, X_test, y_test to lists if needed\n",
    "X_train = X_train.values.tolist()\n",
    "y_train = y_train.values.tolist()\n",
    "X_test = X_test.values.tolist()\n",
    "y_test = y_test.values.tolist()\n",
    "\n",
    "large_k = int(sqrt(len(X_train)))\n",
    "if large_k%2==1 : large_k+=1\n",
    "\n",
    "np.random.seed(20)\n",
    "scaler = StandardScaler()\n",
    "X_train_scaled = scaler.fit_transform(X_train)\n",
    "X_test_scaled = scaler.transform(X_test)\n",
    "\n",
    "# Initialize the KNeighborsClassifier\n",
    "knn = KNeighborsClassifier(n_neighbors=3)\n",
    "knn_large_k = KNeighborsClassifier(n_neighbors=large_k)\n",
    "kf = KFold(n_splits=10, shuffle=True)\n",
    "cv_scores = cross_val_score(knn, X_train_scaled, y_train, cv=kf)\n",
    "cv_scores_large_k = cross_val_score(knn_large_k, X_train_scaled, y_train, cv=kf)\n",
    "\n",
    "print(\"Accuracy Scores for 10 Folds (k=3):\", \", \".join(map(str, cv_scores)), \"\\n\")\n",
    "print(\"Accuracy Scores for 10 Folds(k=sqrt(len(dataset))):\", \",\".join(map(str, cv_scores_large_k*100)), \"\\n\")\n",
    "average_accuracy = cv_scores.mean()\n",
    "average_accuracy_large_k = cv_scores_large_k.mean()\n",
    "print(\"\\nAverage Accuracy(PERCENTAGE)(k=3): {:.4f}\".format(average_accuracy*100))\n",
    "print(\"\\nAverage Accuracy(large_k = sqrt(len(dataset))): {:.4f}\".format(average_accuracy*100))"
   ]
  },
  {
   "cell_type": "code",
   "execution_count": null,
   "id": "3b750b76-4a3d-491a-b9b7-963776fbf5e7",
   "metadata": {},
   "outputs": [],
   "source": []
  }
 ],
 "metadata": {
  "kernelspec": {
   "display_name": "Python 3 (ipykernel)",
   "language": "python",
   "name": "python3"
  },
  "language_info": {
   "codemirror_mode": {
    "name": "ipython",
    "version": 3
   },
   "file_extension": ".py",
   "mimetype": "text/x-python",
   "name": "python",
   "nbconvert_exporter": "python",
   "pygments_lexer": "ipython3",
   "version": "3.10.1"
  }
 },
 "nbformat": 4,
 "nbformat_minor": 5
}
