{
 "cells": [
  {
   "cell_type": "code",
   "execution_count": 27,
   "id": "4fe0c0fe-48be-4810-b703-95c2c794bf9a",
   "metadata": {},
   "outputs": [],
   "source": [
    "from csv import reader\n",
    "import pandas as pd\n",
    "import numpy as np\n",
    "from math import sqrt\n",
    "from sklearn.model_selection import train_test_split\n",
    "from sklearn.model_selection import cross_val_score\n",
    "from sklearn.model_selection import KFold\n",
    "from sklearn.neighbors import KNeighborsClassifier\n",
    "from sklearn.preprocessing import StandardScaler\n",
    "import random"
   ]
  },
  {
   "cell_type": "code",
   "execution_count": 28,
   "id": "8c9d9501-93ff-44f6-bc95-00e6ecba0f78",
   "metadata": {},
   "outputs": [],
   "source": [
    "dataset = pd.read_csv(\"./car+evaluation/car.data.csv\", header=None)\n",
    "dataset = dataset.mask(dataset == '')\n",
    "dataset = dataset.values.tolist()"
   ]
  },
  {
   "cell_type": "code",
   "execution_count": 29,
   "id": "f56b1527-2520-4bd0-a176-dab23561105d",
   "metadata": {},
   "outputs": [
    {
     "name": "stdout",
     "output_type": "stream",
     "text": [
      "First 5 rows are Mapping:\n",
      "[3, 3, 2, 1, 0, 1, 0]\n",
      "[3, 3, 2, 1, 0, 0, 0]\n",
      "[3, 3, 2, 1, 0, 2, 0]\n",
      "[3, 3, 2, 1, 1, 1, 0]\n",
      "[3, 3, 2, 1, 1, 0, 0]\n"
     ]
    }
   ],
   "source": [
    "def str_column_to_int(dataset, column):\n",
    "    class_values = [row[column] for row in dataset]\n",
    "    unique = set(class_values)\n",
    "    lookup = {value: index for index, value in enumerate(unique)}\n",
    "    for row in dataset:\n",
    "        row[column] = lookup[row[column]]\n",
    "    return lookup\n",
    "\n",
    "for i in range(len(dataset[0])):\n",
    "    str_column_to_int(dataset, i)\n",
    "\n",
    "print(\"First 5 rows are Mapping:\")\n",
    "for i in range(5):\n",
    "    print(dataset[i])\n"
   ]
  },
  {
   "cell_type": "code",
   "execution_count": 36,
   "id": "8d3efb69-fb5b-45d1-9c59-9d5cd36eaa6c",
   "metadata": {},
   "outputs": [
    {
     "name": "stdout",
     "output_type": "stream",
     "text": [
      "Accuracy Scores for 10 Folds (k=3): 0.9075144508670521, 0.8728323699421965, 0.884393063583815, 0.8670520231213873, 0.8786127167630058, 0.8728323699421965, 0.9248554913294798, 0.861271676300578, 0.877906976744186, 0.8895348837209303 \n",
      "\n",
      "Accuracy Scores for 10 Folds(k=sqrt(len(dataset))): 79.1907514450867,67.63005780346822,78.61271676300578,72.25433526011561,76.30057803468208,65.3179190751445,74.56647398843931,64.16184971098265,69.18604651162791,75.5813953488372 \n",
      "\n",
      "\n",
      "Average Accuracy (Percentage)(k=3): 88.3681\n",
      "Average Accuracy (Percentage)(k=sqrt(dataset_size)): 72.2802\n"
     ]
    }
   ],
   "source": [
    "random.seed(20)\n",
    "# Extract features and target variable\n",
    "X = np.array([row[:-1] for row in dataset])\n",
    "y = np.array([row[-1] for row in dataset])\n",
    "\n",
    "scaler = StandardScaler()\n",
    "X_scaled = scaler.fit_transform(X)\n",
    "\n",
    "# Large k value\n",
    "large_k = int(sqrt(len(dataset)))\n",
    "if large_k%2==1 : large_k+=1\n",
    "    \n",
    "# Initialize the KNeighborsClassifier\n",
    "knn = KNeighborsClassifier(n_neighbors=3)\n",
    "knn_large_k = KNeighborsClassifier(n_neighbors=large_k)\n",
    "\n",
    "n_splits = 10\n",
    "\n",
    "kf = KFold(n_splits=n_splits, shuffle=True)\n",
    "cv_scores = cross_val_score(knn, X_scaled, y, cv=kf)\n",
    "cv_scores_large_k = cross_val_score(knn_large_k, X_scaled, y, cv=kf)\n",
    "\n",
    "print(\"Accuracy Scores for 10 Folds (k=3):\", \", \".join(map(str, cv_scores)), \"\\n\")\n",
    "print(\"Accuracy Scores for 10 Folds(k=sqrt(len(dataset))):\", \",\".join(map(str, cv_scores_large_k*100)), \"\\n\")\n",
    "\n",
    "average_accuracy = cv_scores.mean()\n",
    "average_accuracy_large_k = cv_scores_large_k.mean()\n",
    "\n",
    "print(\"\\nAverage Accuracy (Percentage)(k=3): {:.4f}\".format(average_accuracy * 100))\n",
    "print(\"Average Accuracy (Percentage)(k=sqrt(dataset_size)): {:.4f}\".format(average_accuracy_large_k * 100))"
   ]
  },
  {
   "cell_type": "code",
   "execution_count": null,
   "id": "54866ba3-5a26-41fd-879b-040206731fe3",
   "metadata": {},
   "outputs": [],
   "source": []
  }
 ],
 "metadata": {
  "kernelspec": {
   "display_name": "Python 3 (ipykernel)",
   "language": "python",
   "name": "python3"
  },
  "language_info": {
   "codemirror_mode": {
    "name": "ipython",
    "version": 3
   },
   "file_extension": ".py",
   "mimetype": "text/x-python",
   "name": "python",
   "nbconvert_exporter": "python",
   "pygments_lexer": "ipython3",
   "version": "3.10.1"
  }
 },
 "nbformat": 4,
 "nbformat_minor": 5
}
