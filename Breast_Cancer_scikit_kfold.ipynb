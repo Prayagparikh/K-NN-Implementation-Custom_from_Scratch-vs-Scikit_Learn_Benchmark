{
 "cells": [
  {
   "cell_type": "code",
   "execution_count": 1,
   "id": "9c52202a-90ae-4d93-9776-92d9411e7aa7",
   "metadata": {},
   "outputs": [],
   "source": [
    "from csv import reader\n",
    "import pandas as pd\n",
    "import numpy as np\n",
    "from math import sqrt\n",
    "from sklearn.model_selection import train_test_split\n",
    "from sklearn.model_selection import cross_val_score\n",
    "from sklearn.model_selection import KFold\n",
    "from sklearn.neighbors import KNeighborsClassifier\n",
    "from sklearn.preprocessing import StandardScaler\n",
    "import random"
   ]
  },
  {
   "cell_type": "code",
   "execution_count": 2,
   "id": "c1fe2f88-10a2-4a3f-bd03-8dfd4ddb9b24",
   "metadata": {},
   "outputs": [],
   "source": [
    "# Read the CSV file\n",
    "dataset = pd.read_csv(\"./breast+cancer/breast-cancer.data.csv\", header=None)\n",
    "dataset = dataset.mask(dataset == '')\n",
    "dataset = dataset.fillna(0)\n",
    "dataset = dataset.values.tolist()"
   ]
  },
  {
   "cell_type": "code",
   "execution_count": 10,
   "id": "12279b2e-c2d6-4602-a8ba-a850a94fd885",
   "metadata": {},
   "outputs": [
    {
     "name": "stdout",
     "output_type": "stream",
     "text": [
      "First 5 rows are Mapping:\n",
      "[1, 1, 2, 9, 1, 2, 2, 0, 3, 1]\n",
      "[1, 2, 2, 1, 1, 2, 1, 1, 2, 1]\n",
      "[1, 2, 2, 1, 1, 2, 1, 0, 3, 1]\n",
      "[1, 4, 0, 5, 1, 2, 1, 1, 5, 1]\n",
      "[1, 2, 2, 8, 1, 2, 1, 1, 4, 1]\n"
     ]
    }
   ],
   "source": [
    "def str_column_to_int(dataset, column):\n",
    "    class_values = [row[column] for row in dataset]\n",
    "    unique = set(class_values)\n",
    "    lookup = {value: index for index, value in enumerate(unique)}\n",
    "    for row in dataset:\n",
    "        row[column] = lookup[row[column]]\n",
    "    return lookup\n",
    "\n",
    "for i in range(len(dataset[0])):\n",
    "    str_column_to_int(dataset, i)\n",
    "\n",
    "\n",
    "print(\"First 5 rows are Mapping:\")\n",
    "for i in range(5):\n",
    "    print(dataset[i])"
   ]
  },
  {
   "cell_type": "code",
   "execution_count": 16,
   "id": "c834aef1-d7af-4c71-a872-afdba5f5cbbf",
   "metadata": {},
   "outputs": [
    {
     "name": "stdout",
     "output_type": "stream",
     "text": [
      "Accuracy Scores for 10 Folds (k=3): 0.896551724137931, 0.6896551724137931, 0.8275862068965517, 0.6551724137931034, 0.7931034482758621, 0.6896551724137931, 0.7142857142857143, 0.7857142857142857, 0.8214285714285714, 0.7857142857142857 \n",
      "\n",
      "Accuracy Scores for 10 Folds(k=sqrt(len(dataset))): 86.20689655172413,79.3103448275862,86.20689655172413,72.41379310344827,75.86206896551724,72.41379310344827,89.28571428571429,53.57142857142857,85.71428571428571,78.57142857142857 \n",
      "\n",
      "\n",
      "Average Accuracy (Percentage)(k=3): 76.5887\n",
      "Average Accuracy (Percentage)(k=sqrt(dataset_size)): 77.9557\n"
     ]
    }
   ],
   "source": [
    "random.seed(20)\n",
    "# Extract features and target variable\n",
    "X = np.array([row[:-1] for row in dataset])\n",
    "y = np.array([row[-1] for row in dataset])\n",
    "\n",
    "scaler = StandardScaler()\n",
    "X_scaled = scaler.fit_transform(X)\n",
    "\n",
    "# Large k-value \n",
    "large_k = int(sqrt(len(dataset)))\n",
    "if large_k % 2 == 1: large_k += 1\n",
    "\n",
    "knn = KNeighborsClassifier(n_neighbors=3)\n",
    "knn_large_k = KNeighborsClassifier(n_neighbors=large_k)\n",
    "n_splits = 10\n",
    "\n",
    "kf = KFold(n_splits=n_splits, shuffle=True)\n",
    "cv_scores = cross_val_score(knn, X_scaled, y, cv=kf)\n",
    "cv_scores_large_k = cross_val_score(knn_large_k, X_scaled, y, cv=kf)\n",
    "\n",
    "print(\"Accuracy Scores for 10 Folds (k=3):\", \", \".join(map(str, cv_scores)), \"\\n\")\n",
    "print(\"Accuracy Scores for 10 Folds(k=sqrt(len(dataset))):\", \",\".join(map(str, cv_scores_large_k*100)), \"\\n\")\n",
    "\n",
    "average_accuracy = cv_scores.mean()\n",
    "average_accuracy_large_k = cv_scores_large_k.mean()\n",
    "\n",
    "print(\"\\nAverage Accuracy (Percentage)(k=3): {:.4f}\".format(average_accuracy * 100))\n",
    "print(\"Average Accuracy (Percentage)(k=sqrt(dataset_size)): {:.4f}\".format(average_accuracy_large_k * 100))"
   ]
  },
  {
   "cell_type": "code",
   "execution_count": null,
   "id": "e9691708-87be-4f92-ba40-424f7551cc72",
   "metadata": {},
   "outputs": [],
   "source": []
  }
 ],
 "metadata": {
  "kernelspec": {
   "display_name": "Python 3 (ipykernel)",
   "language": "python",
   "name": "python3"
  },
  "language_info": {
   "codemirror_mode": {
    "name": "ipython",
    "version": 3
   },
   "file_extension": ".py",
   "mimetype": "text/x-python",
   "name": "python",
   "nbconvert_exporter": "python",
   "pygments_lexer": "ipython3",
   "version": "3.10.1"
  }
 },
 "nbformat": 4,
 "nbformat_minor": 5
}
