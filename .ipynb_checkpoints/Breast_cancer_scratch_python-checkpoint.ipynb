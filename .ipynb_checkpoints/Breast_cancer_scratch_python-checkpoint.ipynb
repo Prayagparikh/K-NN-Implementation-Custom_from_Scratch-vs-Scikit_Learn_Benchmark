{
 "cells": [
  {
   "cell_type": "code",
   "execution_count": 29,
   "id": "ef725e12-e1cf-4e92-bd41-a1447a987d35",
   "metadata": {},
   "outputs": [],
   "source": [
    "from csv import reader\n",
    "import pandas as pd\n",
    "import numpy as np\n",
    "from numpy import array\n",
    "from math import sqrt\n",
    "from random import randrange\n",
    "import copy\n",
    "import random"
   ]
  },
  {
   "cell_type": "code",
   "execution_count": 30,
   "id": "e5879de6-c21f-4b72-a5ba-2836a1417382",
   "metadata": {},
   "outputs": [],
   "source": [
    "# Read the CSV file\n",
    "dataset = pd.read_csv(\"./breast+cancer/breast-cancer.data.csv\", header=None)\n",
    "dataset = dataset.mask(dataset == '')\n",
    "dataset = dataset.fillna(0)\n",
    "dataset = dataset.values.tolist()"
   ]
  },
  {
   "cell_type": "code",
   "execution_count": 31,
   "id": "82227ec4-7632-49d0-9b13-019ff0144260",
   "metadata": {},
   "outputs": [
    {
     "name": "stdout",
     "output_type": "stream",
     "text": [
      "[[0, 3, 1, 5, 3, 2, 2, 1, 4, 1], [0, 2, 1, 0, 3, 2, 1, 0, 3, 1], [0, 2, 1, 0, 3, 2, 1, 1, 4, 1], [0, 1, 0, 9, 3, 2, 1, 0, 2, 1], [0, 2, 1, 10, 3, 2, 1, 0, 5, 1], [0, 1, 0, 9, 3, 2, 1, 1, 4, 1], [0, 4, 1, 1, 3, 2, 1, 1, 4, 1], [0, 1, 0, 0, 3, 2, 0, 1, 4, 1], [0, 2, 1, 2, 3, 2, 1, 1, 4, 1], [0, 2, 1, 0, 3, 2, 1, 0, 2, 1], [0, 2, 1, 10, 3, 2, 2, 1, 0, 1], [0, 4, 0, 1, 3, 2, 1, 1, 4, 1], [0, 1, 2, 3, 3, 2, 0, 1, 3, 1], [0, 4, 0, 1, 3, 2, 2, 1, 3, 1], [0, 2, 1, 5, 3, 2, 2, 1, 2, 1], [0, 1, 2, 5, 3, 2, 0, 1, 4, 1], [0, 2, 1, 9, 3, 2, 1, 1, 4, 1], [0, 4, 1, 5, 3, 2, 2, 1, 4, 1], [0, 1, 0, 5, 3, 2, 2, 1, 4, 1], [0, 4, 0, 5, 3, 2, 0, 0, 3, 1], [0, 4, 0, 7, 3, 2, 1, 1, 4, 1], [0, 1, 0, 9, 3, 2, 1, 1, 4, 1], [0, 3, 1, 1, 3, 2, 1, 0, 4, 1], [0, 4, 1, 7, 3, 2, 1, 1, 2, 1], [0, 4, 1, 4, 3, 2, 1, 0, 2, 1], [0, 2, 1, 1, 3, 2, 1, 1, 2, 1], [0, 4, 1, 0, 3, 2, 0, 1, 4, 1], [0, 1, 0, 1, 3, 2, 2, 0, 2, 1], [0, 2, 1, 7, 3, 2, 1, 0, 4, 1], [0, 1, 0, 5, 3, 2, 1, 1, 4, 1], [0, 4, 0, 7, 3, 2, 2, 0, 2, 1], [0, 4, 1, 9, 3, 2, 1, 0, 4, 1], [0, 4, 1, 3, 3, 2, 2, 1, 4, 1], [0, 4, 0, 3, 3, 2, 0, 0, 2, 1], [0, 4, 0, 3, 3, 2, 0, 1, 2, 1], [0, 3, 1, 5, 3, 2, 1, 1, 2, 1], [0, 4, 0, 10, 3, 2, 1, 1, 0, 1], [0, 4, 0, 9, 3, 2, 0, 0, 0, 1], [0, 2, 1, 3, 3, 2, 1, 1, 4, 1], [0, 2, 1, 5, 3, 2, 0, 1, 4, 1], [0, 4, 0, 0, 3, 2, 0, 0, 4, 1], [0, 1, 0, 1, 3, 2, 1, 1, 4, 1], [0, 1, 0, 6, 3, 2, 0, 1, 0, 1], [0, 2, 1, 3, 3, 2, 1, 1, 2, 1], [0, 4, 0, 2, 3, 2, 0, 0, 3, 1], [0, 4, 0, 5, 3, 2, 0, 1, 2, 1], [0, 2, 1, 1, 3, 2, 1, 0, 4, 1], [0, 4, 1, 1, 3, 2, 0, 0, 2, 1], [0, 2, 1, 0, 3, 2, 0, 0, 3, 1], [0, 2, 1, 0, 3, 2, 0, 0, 4, 1], [0, 4, 2, 9, 3, 2, 1, 1, 4, 1], [0, 3, 1, 0, 3, 2, 1, 1, 5, 1], [0, 4, 1, 9, 3, 2, 0, 1, 4, 1], [0, 0, 0, 0, 3, 2, 2, 1, 2, 1], [0, 0, 0, 7, 3, 2, 0, 0, 2, 1], [0, 0, 0, 7, 3, 2, 0, 0, 3, 1], [0, 4, 0, 10, 3, 2, 0, 0, 0, 1], [0, 4, 0, 6, 3, 2, 1, 0, 3, 1], [0, 1, 0, 5, 3, 2, 0, 1, 2, 1], [0, 1, 0, 9, 3, 2, 0, 0, 2, 1], [0, 2, 1, 0, 3, 2, 1, 1, 0, 1], [0, 2, 1, 3, 3, 2, 0, 0, 5, 1], [0, 4, 0, 10, 3, 2, 0, 1, 4, 1], [0, 5, 1, 4, 3, 2, 1, 0, 3, 1], [0, 2, 1, 1, 3, 2, 0, 1, 5, 1], [0, 2, 1, 3, 3, 2, 0, 0, 2, 1], [0, 2, 1, 1, 3, 2, 0, 0, 5, 1], [0, 4, 0, 0, 3, 2, 2, 1, 2, 1], [0, 4, 0, 4, 3, 2, 2, 1, 4, 1], [0, 1, 0, 2, 3, 2, 1, 1, 4, 1], [0, 1, 0, 3, 3, 2, 0, 1, 4, 1], [0, 2, 1, 1, 3, 2, 1, 0, 2, 1], [0, 1, 0, 0, 3, 2, 1, 1, 2, 1], [0, 4, 1, 9, 3, 2, 1, 0, 5, 1], [0, 3, 1, 6, 3, 2, 1, 1, 5, 1], [0, 4, 0, 3, 3, 2, 0, 1, 4, 1], [0, 4, 0, 3, 3, 2, 1, 1, 4, 1], [0, 3, 1, 1, 3, 2, 0, 1, 0, 1], [0, 4, 1, 1, 3, 2, 1, 1, 4, 1], [0, 2, 1, 1, 3, 2, 1, 0, 0, 1], [0, 4, 0, 3, 3, 2, 1, 0, 4, 1], [0, 1, 0, 3, 3, 2, 0, 1, 2, 1], [0, 1, 0, 9, 3, 2, 1, 0, 4, 1], [0, 4, 0, 9, 3, 2, 1, 0, 4, 1], [0, 2, 1, 0, 3, 2, 0, 1, 5, 1], [0, 4, 0, 4, 3, 2, 2, 1, 2, 1], [0, 1, 0, 1, 3, 2, 1, 0, 4, 1], [0, 0, 0, 10, 3, 2, 0, 1, 5, 1], [0, 4, 0, 0, 3, 2, 2, 0, 2, 1], [0, 2, 1, 7, 3, 2, 0, 0, 2, 1], [0, 3, 1, 10, 3, 2, 1, 0, 0, 1], [0, 4, 0, 0, 3, 2, 2, 1, 2, 1], [0, 4, 0, 1, 3, 2, 1, 0, 2, 1], [0, 1, 0, 0, 3, 2, 1, 0, 2, 1], [0, 4, 1, 3, 3, 2, 0, 1, 4, 1], [0, 2, 1, 5, 3, 2, 1, 0, 5, 1], [0, 1, 0, 5, 3, 2, 1, 1, 2, 1], [0, 1, 0, 9, 3, 2, 1, 0, 2, 1], [0, 2, 1, 5, 3, 2, 0, 1, 3, 1], [0, 3, 1, 1, 3, 2, 1, 1, 4, 1], [0, 2, 0, 0, 3, 2, 2, 1, 4, 1], [0, 4, 0, 5, 3, 2, 2, 0, 4, 1], [0, 4, 1, 1, 3, 2, 1, 0, 5, 1], [0, 2, 1, 0, 3, 2, 1, 1, 5, 1], [0, 2, 1, 3, 3, 2, 1, 0, 4, 1], [0, 2, 1, 5, 3, 2, 0, 0, 2, 1], [0, 2, 1, 0, 3, 2, 1, 1, 2, 1], [0, 3, 1, 7, 3, 2, 1, 0, 3, 1], [0, 2, 1, 5, 3, 2, 2, 0, 3, 1], [0, 1, 0, 5, 3, 2, 0, 0, 2, 1], [0, 4, 0, 1, 3, 2, 0, 1, 4, 1], [0, 4, 0, 9, 3, 2, 0, 0, 0, 1], [0, 2, 1, 0, 3, 2, 1, 0, 2, 1], [0, 2, 1, 3, 3, 2, 0, 0, 2, 1], [0, 2, 1, 4, 3, 2, 1, 0, 3, 1], [0, 4, 0, 0, 3, 2, 1, 0, 2, 1], [0, 3, 1, 9, 3, 2, 0, 1, 4, 1], [0, 2, 0, 0, 3, 2, 2, 1, 2, 1], [0, 3, 1, 3, 3, 2, 0, 0, 4, 1], [0, 1, 0, 9, 3, 2, 0, 1, 5, 1], [0, 1, 0, 0, 3, 2, 0, 1, 4, 1], [0, 4, 0, 9, 3, 2, 1, 0, 3, 1], [0, 4, 0, 7, 3, 2, 2, 1, 2, 1], [0, 4, 0, 5, 3, 2, 0, 0, 4, 1], [0, 1, 0, 3, 3, 2, 0, 0, 4, 1], [0, 0, 0, 3, 3, 2, 1, 1, 0, 1], [0, 3, 1, 5, 0, 0, 1, 0, 3, 1], [0, 3, 1, 1, 0, 0, 1, 0, 2, 0], [0, 4, 1, 1, 3, 0, 1, 1, 2, 1], [0, 2, 1, 4, 2, 0, 1, 0, 2, 0], [0, 2, 1, 4, 2, 0, 1, 0, 3, 0], [0, 2, 1, 7, 6, 0, 2, 0, 2, 0], [0, 2, 1, 5, 0, 2, 1, 1, 2, 1], [0, 4, 0, 7, 3, 2, 2, 1, 3, 1], [0, 1, 0, 5, 3, 2, 1, 1, 4, 0], [0, 3, 1, 0, 6, 2, 1, 0, 0, 1], [0, 3, 1, 7, 6, 2, 2, 0, 3, 0], [0, 2, 1, 6, 3, 2, 0, 1, 4, 0], [0, 3, 1, 7, 3, 2, 1, 1, 4, 0], [0, 2, 1, 5, 3, 2, 1, 1, 5, 1], [0, 4, 0, 7, 6, 0, 1, 1, 4, 1], [0, 4, 1, 0, 6, 0, 1, 1, 4, 1], [0, 1, 0, 3, 3, 2, 0, 1, 2, 1], [0, 2, 1, 8, 3, 2, 1, 1, 4, 0], [0, 1, 0, 8, 0, 0, 2, 1, 0, 1], [0, 2, 1, 1, 3, 1, 1, 1, 5, 0], [0, 1, 0, 2, 3, 2, 1, 0, 2, 0], [0, 4, 1, 5, 6, 0, 1, 1, 4, 0], [0, 3, 1, 0, 3, 2, 2, 1, 0, 1], [0, 4, 2, 5, 3, 2, 2, 0, 2, 1], [0, 4, 0, 1, 1, 0, 2, 0, 2, 1], [0, 1, 0, 5, 6, 0, 2, 1, 4, 1], [0, 4, 0, 4, 1, 2, 2, 1, 4, 1], [0, 1, 0, 9, 3, 2, 2, 0, 2, 0], [0, 3, 2, 9, 3, 2, 2, 0, 2, 1], [0, 1, 0, 7, 6, 2, 1, 0, 2, 0], [0, 4, 0, 1, 6, 0, 2, 0, 2, 1], [0, 4, 1, 5, 3, 2, 0, 1, 0, 1], [0, 4, 0, 5, 3, 2, 0, 0, 0, 1], [0, 2, 1, 4, 3, 2, 0, 1, 4, 1], [0, 2, 1, 1, 3, 2, 2, 0, 2, 0], [0, 2, 1, 5, 6, 0, 1, 0, 4, 1], [0, 1, 0, 3, 3, 2, 1, 0, 2, 0], [0, 1, 0, 1, 6, 1, 0, 0, 2, 0], [0, 1, 0, 1, 6, 1, 0, 0, 4, 0], [0, 2, 1, 0, 6, 2, 1, 0, 2, 1], [0, 2, 1, 0, 6, 2, 1, 0, 4, 1], [0, 2, 0, 7, 1, 0, 1, 0, 2, 0], [0, 4, 1, 3, 3, 2, 1, 0, 2, 1], [0, 2, 0, 5, 3, 2, 1, 1, 2, 0], [0, 3, 1, 0, 6, 0, 1, 0, 2, 0], [0, 3, 1, 9, 3, 2, 0, 1, 4, 1], [0, 1, 0, 5, 0, 0, 1, 0, 3, 1], [0, 4, 0, 0, 6, 0, 1, 0, 2, 1], [0, 4, 1, 1, 6, 0, 1, 1, 4, 0], [0, 2, 1, 5, 3, 2, 1, 0, 3, 0], [0, 2, 0, 1, 3, 2, 1, 1, 4, 1], [0, 1, 0, 3, 3, 2, 1, 1, 4, 1], [0, 4, 1, 1, 6, 2, 1, 0, 2, 0], [0, 2, 1, 0, 3, 2, 2, 0, 4, 0], [0, 2, 1, 4, 3, 0, 2, 0, 2, 0], [0, 2, 1, 4, 3, 0, 2, 0, 4, 0], [0, 2, 1, 1, 3, 2, 0, 0, 4, 0], [0, 4, 0, 5, 2, 1, 2, 1, 2, 0], [0, 4, 0, 5, 2, 1, 2, 1, 4, 0], [0, 2, 1, 0, 0, 2, 1, 0, 4, 0], [0, 4, 0, 1, 3, 2, 0, 1, 5, 1], [0, 1, 0, 9, 3, 2, 1, 1, 2, 0], [0, 2, 1, 3, 3, 2, 1, 0, 2, 1], [0, 4, 0, 0, 3, 0, 1, 0, 2, 1], [0, 2, 1, 9, 4, 2, 2, 0, 5, 0], [0, 2, 1, 1, 3, 2, 1, 1, 2, 0], [0, 4, 0, 5, 0, 0, 1, 1, 4, 1], [0, 3, 1, 3, 3, 2, 1, 1, 5, 1], [0, 4, 1, 2, 3, 0, 1, 0, 2, 0], [0, 4, 0, 4, 3, 2, 1, 1, 2, 1], [0, 4, 1, 3, 6, 2, 0, 0, 2, 1], [0, 2, 1, 3, 3, 2, 1, 1, 4, 0], [0, 4, 0, 9, 3, 0, 1, 1, 0, 0], [0, 4, 1, 1, 3, 2, 0, 1, 4, 1], [0, 1, 0, 1, 3, 2, 2, 0, 4, 1], [1, 4, 1, 9, 3, 2, 1, 1, 4, 1], [1, 2, 1, 7, 3, 2, 0, 1, 4, 1], [1, 4, 0, 4, 3, 2, 1, 1, 4, 1], [1, 4, 1, 1, 3, 2, 1, 1, 3, 1], [1, 3, 1, 10, 3, 2, 1, 0, 0, 1], [1, 4, 0, 5, 3, 2, 2, 1, 1, 1], [1, 4, 1, 1, 3, 2, 1, 1, 3, 1], [1, 4, 1, 5, 3, 2, 2, 1, 3, 1], [1, 2, 1, 4, 3, 2, 0, 0, 2, 1], [1, 2, 1, 0, 3, 2, 1, 1, 4, 1], [1, 4, 0, 0, 3, 2, 1, 0, 0, 1], [1, 2, 1, 5, 3, 2, 2, 0, 3, 1], [1, 4, 1, 1, 3, 2, 0, 0, 2, 1], [1, 1, 0, 7, 3, 2, 1, 0, 4, 1], [1, 2, 0, 0, 3, 2, 1, 0, 2, 1], [1, 4, 0, 0, 3, 2, 1, 1, 2, 1], [1, 2, 1, 9, 3, 2, 1, 1, 2, 1], [1, 1, 0, 5, 3, 2, 2, 0, 0, 1], [1, 3, 1, 9, 3, 2, 0, 0, 4, 1], [1, 2, 1, 1, 3, 2, 2, 1, 3, 1], [1, 3, 1, 5, 3, 2, 0, 0, 2, 1], [1, 1, 0, 1, 3, 2, 2, 1, 5, 0], [1, 1, 0, 0, 3, 2, 2, 0, 4, 1], [1, 3, 1, 1, 6, 0, 2, 1, 4, 0], [1, 2, 0, 0, 6, 2, 2, 0, 4, 0], [1, 2, 1, 5, 1, 0, 2, 1, 4, 1], [1, 4, 1, 5, 3, 2, 2, 0, 2, 0], [1, 1, 0, 7, 6, 0, 2, 0, 4, 1], [1, 1, 0, 8, 3, 2, 0, 0, 3, 0], [1, 4, 1, 2, 2, 0, 1, 0, 2, 1], [1, 2, 1, 5, 6, 2, 1, 0, 2, 1], [1, 3, 1, 5, 6, 2, 2, 0, 2, 0], [1, 0, 0, 9, 2, 1, 0, 1, 4, 0], [1, 1, 0, 5, 3, 2, 2, 0, 2, 0], [1, 4, 1, 1, 6, 0, 2, 1, 4, 0], [1, 2, 1, 1, 3, 2, 1, 0, 4, 1], [1, 2, 1, 1, 3, 2, 1, 0, 4, 1], [1, 3, 1, 4, 3, 2, 2, 1, 4, 1], [1, 2, 1, 0, 6, 0, 1, 0, 3, 0], [1, 1, 0, 0, 6, 2, 1, 1, 4, 0], [1, 2, 1, 9, 1, 0, 2, 1, 4, 1], [1, 4, 0, 1, 0, 2, 2, 1, 4, 0], [1, 4, 0, 0, 6, 0, 2, 0, 3, 1], [1, 2, 1, 5, 4, 0, 2, 1, 2, 0], [1, 3, 1, 5, 2, 2, 1, 0, 2, 0], [1, 3, 1, 9, 0, 0, 2, 1, 4, 0], [1, 4, 0, 5, 2, 0, 2, 1, 5, 0], [1, 1, 0, 4, 0, 0, 2, 1, 4, 1], [1, 3, 1, 0, 6, 0, 1, 1, 4, 1], [1, 2, 1, 1, 3, 2, 2, 1, 2, 1], [1, 2, 1, 2, 3, 2, 1, 0, 4, 0], [1, 3, 1, 7, 3, 2, 0, 1, 2, 1], [1, 1, 0, 2, 3, 2, 2, 0, 2, 1], [1, 2, 1, 5, 3, 0, 2, 0, 3, 1], [1, 2, 1, 5, 0, 0, 2, 0, 2, 1], [1, 2, 1, 5, 3, 2, 0, 1, 4, 0], [1, 2, 1, 0, 6, 0, 1, 1, 4, 0], [1, 4, 0, 5, 0, 0, 1, 1, 5, 0], [1, 4, 0, 5, 6, 2, 2, 0, 2, 1], [1, 1, 0, 1, 6, 2, 1, 0, 3, 1], [1, 2, 0, 1, 4, 0, 2, 1, 5, 0], [1, 1, 0, 1, 3, 2, 2, 1, 2, 1], [1, 4, 2, 0, 3, 1, 0, 1, 2, 1], [1, 4, 2, 0, 3, 1, 0, 1, 4, 1], [1, 3, 1, 4, 2, 0, 2, 1, 4, 1], [1, 2, 1, 5, 6, 0, 1, 1, 3, 1], [1, 1, 0, 0, 5, 0, 2, 1, 4, 0], [1, 3, 1, 4, 3, 2, 2, 1, 4, 1], [1, 2, 1, 1, 3, 2, 1, 1, 4, 0], [1, 4, 0, 5, 0, 0, 2, 1, 5, 1], [1, 4, 1, 1, 3, 2, 2, 0, 4, 0], [1, 2, 1, 9, 3, 0, 2, 0, 2, 1], [1, 1, 0, 5, 3, 0, 1, 0, 3, 0], [1, 1, 0, 5, 6, 0, 1, 1, 0, 0], [1, 2, 1, 1, 2, 0, 2, 0, 2, 1], [1, 3, 1, 1, 0, 0, 2, 1, 5, 0], [1, 1, 0, 3, 0, 0, 2, 1, 2, 0], [1, 4, 1, 4, 1, 0, 2, 0, 3, 1], [1, 4, 0, 7, 0, 0, 2, 1, 4, 0], [1, 4, 0, 7, 0, 0, 2, 1, 4, 0], [1, 3, 1, 5, 3, 2, 1, 1, 2, 1], [1, 3, 1, 0, 3, 2, 2, 1, 2, 0], [1, 1, 0, 0, 3, 2, 0, 0, 2, 1], [1, 2, 0, 5, 6, 2, 2, 1, 4, 1], [1, 4, 0, 5, 6, 2, 2, 1, 4, 1]]\n"
     ]
    }
   ],
   "source": [
    "# Mapping for breast cancer dataset classes\n",
    "# 'no-recurrence-events' and 'recurrence-events' -> (0, 1)\n",
    "\n",
    "# Mapping for age attribute\n",
    "# '10-19': 0, '20-29': 1, '30-39': 2, '40-49': 3, '50-59': 4, '60-69': 5, '70-79': 6, '80-89': 7, '90-99': 8\n",
    "\n",
    "# Mapping for menopause attribute\n",
    "# 'lt40': 0, 'ge40': 1, 'premeno': 2\n",
    "\n",
    "# Mapping for tumor-size attribute\n",
    "# '0-4': 0, '5-9': 1, '10-14': 2, '15-19': 3, '20-24': 4, '25-29': 5, '30-34': 6, '35-39': 7, '40-44': 8, '45-49': 9, '50-54': 10, '55-59': 11\n",
    "\n",
    "# Mapping for inv-nodes attribute\n",
    "# '0-2': 0, '3-5': 1, '6-8': 2, '9-11': 3, '12-14': 4, '15-17': 5, '18-20': 6, '21-23': 7, '24-26': 8, '27-29': 9, '30-32': 10, '33-35': 11, '36-39': 12\n",
    "\n",
    "# Mapping for node-caps attribute\n",
    "# 'yes': 0, 'no': 1\n",
    "\n",
    "# Mapping for deg-malig attribute\n",
    "# '1': 0, '2': 1, '3': 2\n",
    "\n",
    "# Mapping for breast attribute\n",
    "# 'left': 0, 'right': 1\n",
    "\n",
    "# Mapping for breast-quad attribute\n",
    "# 'left-up': 0, 'left-low': 1, 'right-up': 2, 'right-low': 3, 'central': 4\n",
    "\n",
    "# Mapping for irradiat attribute\n",
    "# 'yes': 0, 'no': 1\n",
    "\n",
    "\n",
    "def str_column_to_int(dataset, column):\n",
    "    unique_values = set(row[column] for row in dataset)\n",
    "    lookup = {value: index for index, value in enumerate(unique_values)}\n",
    "    for row in dataset:\n",
    "        row[column] = lookup[row[column]]\n",
    "    return lookup\n",
    "\n",
    "for column in range(len(dataset[0])):\n",
    "    str_column_to_int(dataset, column)\n",
    "    \n",
    "print(dataset)"
   ]
  },
  {
   "cell_type": "markdown",
   "id": "916eab8a-aa66-4eee-8ecc-d47cbaff9b18",
   "metadata": {},
   "source": [
    "## Full Scratch KNN model: For Breast_Cancer dataset"
   ]
  },
  {
   "cell_type": "code",
   "execution_count": 34,
   "id": "fadd27a7-ce27-45e5-bbdb-039e2beafb7a",
   "metadata": {},
   "outputs": [
    {
     "name": "stdout",
     "output_type": "stream",
     "text": [
      "************************ FINAL PREDICTION OUTPUT ************************\n",
      "New Observation: [1, 2, 1, 2, 1, 1, 2, 1, 0]\n",
      "Predicted class: no-recurrence-events\n"
     ]
    }
   ],
   "source": [
    "# PLEASE REFER: Details regarding Hayes Roth Dataset and how it is used here is in 'Doc file'\n",
    "\n",
    "def euclidean_distance(row1, row2):\n",
    "    distance = 0.0\n",
    "    for i in range(len(row2)-2):\n",
    "        distance += (row1[i] - row2[i])**2\n",
    "    return sqrt(distance)\n",
    "\n",
    "def get_neighbors(X_train, test_row, k):\n",
    "    distance = list()\n",
    "    data = []\n",
    "    for i in X_train:\n",
    "        dist = euclidean_distance(test_row, i)\n",
    "        distance.append(dist)\n",
    "        data.append(i)\n",
    "        \n",
    "    distance = np.array(distance)\n",
    "    data = np.array(data)\n",
    "    # Find the index of min distance and sorting accordingly\n",
    "    index_dist = distance.argsort()\n",
    "    # We arrange our data according to index\n",
    "    data = data[index_dist]\n",
    "    # slicing k neighbors from data[]\n",
    "    neighbors = data[:k]\n",
    "    return neighbors\n",
    "\n",
    "def predict_classification(train, test_row, k):\n",
    "    neighbors = get_neighbors(train, test_row, k)\n",
    "    classes = []\n",
    "    for i in neighbors:\n",
    "        classes.append(i[-1])\n",
    "    prediction = max(set(classes), key=classes.count)\n",
    "    return prediction\n",
    "\n",
    "# Mapping for breast cancer dataset classes\n",
    "class_mapping = {0: 'no-recurrence-events', 1: 'recurrence-events'}\n",
    "\n",
    "# Example new observation row (converted to integers)\n",
    "new_observation_row = [1, 2, 1, 2, 1, 1, 2, 1, 0]\n",
    "\n",
    "# Large k-value(optional) -> replace it with \n",
    "large_k = int(sqrt(len(dataset)))\n",
    "if large_k % 2 == 1: \n",
    "    large_k += 1\n",
    "\n",
    "prediction = predict_classification(dataset, new_observation_row, 3)\n",
    "\n",
    "print('************************ FINAL PREDICTION OUTPUT ************************')\n",
    "print('New Observation:', new_observation_row)\n",
    "predicted_class = class_mapping[prediction]\n",
    "print('Predicted class:', predicted_class)"
   ]
  },
  {
   "cell_type": "markdown",
   "id": "bb1b9c3f-ef6a-4f31-ba9b-b35300047740",
   "metadata": {},
   "source": [
    "## Measing 10 Fold Cross Validation Average accuracy score"
   ]
  },
  {
   "cell_type": "code",
   "execution_count": 35,
   "id": "da93e758-3288-4a81-a211-e1e2dc2413b2",
   "metadata": {},
   "outputs": [
    {
     "name": "stdout",
     "output_type": "stream",
     "text": [
      "************************ CROSS-VALIDATION RESULTS ************************\n",
      "Accuracy Scores: [78.57142857142857, 78.57142857142857, 75.0, 64.28571428571429, 82.14285714285714, 82.14285714285714, 57.14285714285714, 78.57142857142857, 75.0, 67.85714285714286]\n",
      "Average Accuracy: 73.92857142857143\n"
     ]
    }
   ],
   "source": [
    "n_folds = 10\n",
    "def cross_validation_split(dataset, n_folds):\n",
    "    dataset_split = []\n",
    "    dataset_copy = list(dataset)\n",
    "    fold_size = int(len(dataset) / n_folds)\n",
    "    for _ in range(n_folds):\n",
    "        fold = []\n",
    "        while len(fold) < fold_size:\n",
    "            index = randrange(len(dataset_copy))\n",
    "            fold.append(dataset_copy.pop(index))\n",
    "        dataset_split.append(fold)\n",
    "    return dataset_split\n",
    "\n",
    "def evaluate_algorithm(dataset, n_folds, k):\n",
    "    folds = cross_validation_split(dataset, n_folds)\n",
    "    scores = []\n",
    "    for fold in folds:\n",
    "        train_set = list(folds)\n",
    "        train_set.remove(fold)\n",
    "        train_set = sum(train_set, [])\n",
    "        test_set = []\n",
    "        for row in fold:\n",
    "            row_copy = list(row)\n",
    "            test_set.append(row_copy)\n",
    "            row_copy[-1] = None  # remove the class label for testing\n",
    "        predictions = []\n",
    "        for row in test_set:\n",
    "            output = predict_classification(train_set, row, k)\n",
    "            predictions.append(output)\n",
    "        actual = [row[-1] for row in fold]\n",
    "        correct = sum(1 for i in range(len(actual)) if actual[i] == predictions[i])\n",
    "        accuracy = (correct / float(len(actual))) * 100.0\n",
    "        scores.append(accuracy)\n",
    "    return scores\n",
    "\n",
    "random.seed(20)\n",
    "k = 3\n",
    "scores = evaluate_algorithm(dataset, n_folds, k)\n",
    "\n",
    "print('************************ CROSS-VALIDATION RESULTS ************************')\n",
    "print('Accuracy Scores:', scores)\n",
    "print('Average Accuracy:', np.mean(scores))\n"
   ]
  },
  {
   "cell_type": "code",
   "execution_count": null,
   "id": "e6631116-abaa-4dbb-be7c-f3ae6065e1e9",
   "metadata": {},
   "outputs": [],
   "source": []
  }
 ],
 "metadata": {
  "kernelspec": {
   "display_name": "Python 3 (ipykernel)",
   "language": "python",
   "name": "python3"
  },
  "language_info": {
   "codemirror_mode": {
    "name": "ipython",
    "version": 3
   },
   "file_extension": ".py",
   "mimetype": "text/x-python",
   "name": "python",
   "nbconvert_exporter": "python",
   "pygments_lexer": "ipython3",
   "version": "3.10.1"
  }
 },
 "nbformat": 4,
 "nbformat_minor": 5
}
