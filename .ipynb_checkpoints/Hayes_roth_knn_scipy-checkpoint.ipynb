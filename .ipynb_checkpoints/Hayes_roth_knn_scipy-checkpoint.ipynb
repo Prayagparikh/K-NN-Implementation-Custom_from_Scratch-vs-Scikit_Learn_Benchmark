{
 "cells": [
  {
   "cell_type": "code",
   "execution_count": 94,
   "id": "1ac0d2d8-8d4d-4f3a-b875-a3c564c09ee5",
   "metadata": {},
   "outputs": [],
   "source": [
    "from csv import reader\n",
    "import pandas as pd\n",
    "import numpy as np\n",
    "from math import sqrt\n",
    "from sklearn.model_selection import train_test_split\n",
    "from sklearn.model_selection import cross_val_score\n",
    "from sklearn.neighbors import KNeighborsClassifier\n",
    "from sklearn.preprocessing import StandardScaler"
   ]
  },
  {
   "cell_type": "code",
   "execution_count": 95,
   "id": "456de321-630a-4b63-b0b4-e1303c73a721",
   "metadata": {},
   "outputs": [],
   "source": [
    "dataset = pd.read_csv(\"./hayes+roth/hayes-roth.data.csv\")\n",
    "dataset_test = pd.read_csv(\"./hayes+roth/hayes-roth.test.csv\")\n",
    "dataset = dataset.mask(dataset == '')\n",
    "dataset_test = dataset_test.mask(dataset_test == '')"
   ]
  },
  {
   "cell_type": "code",
   "execution_count": 97,
   "id": "7f2ac47f-da72-48e0-9414-e4d61494813d",
   "metadata": {},
   "outputs": [
    {
     "name": "stdout",
     "output_type": "stream",
     "text": [
      "Accuracy Scores for 10 Folds: [0.64285714 0.57142857 0.61538462 0.46153846 0.30769231 0.38461538\n",
      " 0.30769231 0.69230769 0.38461538 0.38461538]\n",
      "\n",
      "Average Accuracy(PERCENTAGE): 47.5275\n"
     ]
    }
   ],
   "source": [
    "# Splitting dataset\n",
    "X_train = dataset.iloc[:, :-1]  \n",
    "y_train = dataset.iloc[:, -1] \n",
    "\n",
    "X_test = dataset_test.iloc[:, :-1]\n",
    "y_test = dataset_test.iloc[:, -1] \n",
    "\n",
    "# Convert X_train, y_train, X_test, y_test to lists if needed\n",
    "X_train = X_train.values.tolist()\n",
    "y_train = y_train.values.tolist()\n",
    "X_test = X_test.values.tolist()\n",
    "y_test = y_test.values.tolist()\n",
    "\n",
    "scaler = StandardScaler()\n",
    "X_train_scaled = scaler.fit_transform(X_train)\n",
    "X_test_scaled = scaler.transform(X_test)\n",
    "\n",
    "# Initialize the KNeighborsClassifier\n",
    "knn = KNeighborsClassifier(n_neighbors=3)\n",
    "np.random.seed(20)\n",
    "kf = KFold(n_splits=10, shuffle=True)\n",
    "cv_scores = cross_val_score(knn, X_train_scaled, y_train, cv=kf)\n",
    "\n",
    "print(\"Accuracy Scores for 10 Folds:\", cv_scores)\n",
    "average_accuracy = cv_scores.mean()\n",
    "print(\"\\nAverage Accuracy(PERCENTAGE): {:.4f}\".format(average_accuracy*100))"
   ]
  },
  {
   "cell_type": "code",
   "execution_count": null,
   "id": "3b750b76-4a3d-491a-b9b7-963776fbf5e7",
   "metadata": {},
   "outputs": [],
   "source": []
  }
 ],
 "metadata": {
  "kernelspec": {
   "display_name": "Python 3 (ipykernel)",
   "language": "python",
   "name": "python3"
  },
  "language_info": {
   "codemirror_mode": {
    "name": "ipython",
    "version": 3
   },
   "file_extension": ".py",
   "mimetype": "text/x-python",
   "name": "python",
   "nbconvert_exporter": "python",
   "pygments_lexer": "ipython3",
   "version": "3.10.1"
  }
 },
 "nbformat": 4,
 "nbformat_minor": 5
}
