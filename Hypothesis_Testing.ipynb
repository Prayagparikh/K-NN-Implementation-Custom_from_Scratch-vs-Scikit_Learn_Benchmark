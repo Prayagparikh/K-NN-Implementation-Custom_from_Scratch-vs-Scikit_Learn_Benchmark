{
 "cells": [
  {
   "cell_type": "markdown",
   "id": "26fd90ff-d514-4312-9c42-13f1322fdec0",
   "metadata": {},
   "source": [
    "## Paired T-testing: For Hayes Roth dataset b/w accuracies of (Scratch implementation & Scikit implementation)"
   ]
  },
  {
   "cell_type": "code",
   "execution_count": 24,
   "id": "59b20f73-b421-4ba0-b2bf-1672ae31189a",
   "metadata": {},
   "outputs": [
    {
     "name": "stdout",
     "output_type": "stream",
     "text": [
      "T-statistic: nan\n",
      "P-value: nan\n",
      "Fail to reject the null hypothesis: There is no significant difference in accuracies.\n"
     ]
    }
   ],
   "source": [
    "from scipy import stats\n",
    "\n",
    "knn_from_scratch_accuracy = [38.46153846153847, 38.46153846153847, 23.076923076923077, 38.46153846153847, 46.15384615384615, 61.53846153846154, 38.46153846153847, 23.076923076923077, 30.76923076923077, 61.53846153846154]\n",
    "knn_scikit_accuracy = [38.46153846153847, 38.46153846153847, 23.076923076923077, 38.46153846153847, 46.15384615384615, 61.53846153846154, 38.46153846153847, 23.076923076923077, 30.76923076923077, 61.53846153846154]\n",
    "\n",
    "# Perform a paired T-test\n",
    "t_stat, p_value = stats.ttest_rel(knn_from_scratch_accuracy, knn_scikit_accuracy)\n",
    "\n",
    "# Print the results\n",
    "print(\"T-statistic:\", t_stat)\n",
    "print(\"P-value:\", p_value)\n",
    "\n",
    "# Decide whether to reject the null hypothesis\n",
    "alpha = 0.05  # Significance level\n",
    "if p_value < alpha:\n",
    "    print(\"Reject the null hypothesis: There is a significant difference in accuracies.\")\n",
    "else:\n",
    "    print(\"Fail to reject the null hypothesis: There is no significant difference in accuracies.\")\n"
   ]
  },
  {
   "cell_type": "markdown",
   "id": "464f0ec5-9bbd-49e3-8368-27a802823fbf",
   "metadata": {},
   "source": [
    "## Paired T-testing: For Car_evaluation dataset"
   ]
  },
  {
   "cell_type": "code",
   "execution_count": 25,
   "id": "f088efe6-fd7e-4d99-99bf-3d0f2d79a980",
   "metadata": {},
   "outputs": [
    {
     "name": "stdout",
     "output_type": "stream",
     "text": [
      "T-statistic:  -6.506570037043797\n",
      "P-value: 0.00011060277139652063\n",
      "Reject the null hypothesis: There is a significant difference in accuracies.\n"
     ]
    }
   ],
   "source": [
    "from scipy import stats\n",
    "\n",
    "knn_from_scratch_accuracy = [65.69767441860465, 64.53488372093024, 65.69767441860465, 70.93023255813954, 61.627906976744185, 63.95348837209303, 66.27906976744185, 65.11627906976744, 58.139534883720934, 62.7906976744186]\n",
    "knn_scikit_accuracy = [75.14450867, 74.56647399, 68.78612717, 75.14450867, 71.0982659,  72.25433526, 77.4566474,  68.20809249, 73.8372093,  69.76744186]\n",
    "\n",
    "# Perform a paired T-test\n",
    "t_stat, p_value = stats.ttest_rel(knn_from_scratch_accuracy, knn_scikit_accuracy)\n",
    "\n",
    "# Print the results\n",
    "print(\"T-statistic: \", t_stat)\n",
    "print(\"P-value:\", p_value)\n",
    "\n",
    "# Decide whether to reject the null hypothesis\n",
    "alpha = 0.05  # Significance level\n",
    "if p_value < alpha:\n",
    "    print(\"Reject the null hypothesis: There is a significant difference in accuracies.\")\n",
    "else:\n",
    "    print(\"Fail to reject the null hypothesis: There is no significant difference in accuracies.\")\n"
   ]
  },
  {
   "cell_type": "markdown",
   "id": "705fb125-0574-43e4-a005-afbf096992cd",
   "metadata": {},
   "source": [
    "## Paired T-testing: For Breast_Cancer dataset"
   ]
  },
  {
   "cell_type": "code",
   "execution_count": 26,
   "id": "2d86b591-1e04-4ea3-b04f-0d100ebd6eac",
   "metadata": {},
   "outputs": [
    {
     "name": "stdout",
     "output_type": "stream",
     "text": [
      "T-statistic:  -0.21377761645359086\n",
      "P-value: 0.8354850043838716\n",
      "Fail to reject the null hypothesis: There is no significant difference in accuracies.\n"
     ]
    }
   ],
   "source": [
    "from scipy import stats\n",
    "\n",
    "knn_from_scratch_accuracy = [78.57142857142857, 78.57142857142857, 75.0, 64.28571428571429, 82.14285714285714, 82.14285714285714, 57.14285714285714, 78.57142857142857, 75.0, 67.85714285714286]\n",
    "knn_scikit_accuracy = [79.31034483, 75.86206897, 58.62068966, 75.86206897, 75.86206897, 79.31034483, 85.71428571, 67.85714286, 67.85714286, 82.14285714]\n",
    "\n",
    "# Perform a paired T-test\n",
    "t_stat, p_value = stats.ttest_rel(knn_from_scratch_accuracy, knn_scikit_accuracy)\n",
    "\n",
    "# Print the results\n",
    "print(\"T-statistic: \", t_stat)\n",
    "print(\"P-value:\", p_value)\n",
    "\n",
    "# Decide whether to reject the null hypothesis\n",
    "alpha = 0.05  # Significance level\n",
    "if p_value < alpha:\n",
    "    print(\"Reject the null hypothesis: There is a significant difference in accuracies.\")\n",
    "else:\n",
    "    print(\"Fail to reject the null hypothesis: There is no significant difference in accuracies.\")\n"
   ]
  },
  {
   "cell_type": "markdown",
   "id": "f2d0ed4b-24c4-479f-8046-44971872413d",
   "metadata": {},
   "source": [
    "## Conclusion\n",
    "### -> Hence, we can see that only for Car_Evaluation Dataset Null Hypothesis(H0) can be rejected since the p-value is significantly lower than 0.05(i.e. 0.00011060277139652063) and T-statistic value that means the \"Differences of their means between both accuracy arrays\" is significantly higher than the other accuracy (i.e. -6.506570037043797). Therefore, I can say that only for Car_Evaluation dataset KNN_Using_Scikit implementation has better accuracies than the Scratch python implementation, one possible reason is that for this dataset only 1728 data rows are there unlike other two datasets.\n",
    "\n",
    "### -> For remaining two datasets Breast_Cancer and Hayes_Roth since Null Hypothesis(H0) has FAILED to get rejected, both implementations of KNN are almost similar by looking at P-value and T-value we can identify that thing as well.\n",
    "\n",
    "### -> More details will be found in the Word report."
   ]
  },
  {
   "cell_type": "markdown",
   "id": "0214acd8-731e-4b63-afab-07e8edad475c",
   "metadata": {},
   "source": [
    "## References"
   ]
  },
  {
   "cell_type": "markdown",
   "id": "26ddf51b-6946-4d0f-bb5a-4def13f1dadb",
   "metadata": {},
   "source": [
    "1. https://www.analyticsvidhya.com/blog/2021/09/hypothesis-testing-in-machine-learning-everything-you-need-to-know/\n",
    "2. https://towardsdatascience.com/hypothesis-testing-in-machine-learning-using-python-a0dc89e169ce\n",
    "3. https://docs.scipy.org/doc/scipy/reference/generated/scipy.stats.ttest_ind.html\n",
    "4. https://docs.scipy.org/doc/scipy/reference/generated/scipy.stats.ttest_rel.html"
   ]
  },
  {
   "cell_type": "code",
   "execution_count": null,
   "id": "d2fe8fb6-1395-4ccd-bc7b-cb82bcf21346",
   "metadata": {},
   "outputs": [],
   "source": []
  }
 ],
 "metadata": {
  "kernelspec": {
   "display_name": "Python 3 (ipykernel)",
   "language": "python",
   "name": "python3"
  },
  "language_info": {
   "codemirror_mode": {
    "name": "ipython",
    "version": 3
   },
   "file_extension": ".py",
   "mimetype": "text/x-python",
   "name": "python",
   "nbconvert_exporter": "python",
   "pygments_lexer": "ipython3",
   "version": "3.10.1"
  }
 },
 "nbformat": 4,
 "nbformat_minor": 5
}
